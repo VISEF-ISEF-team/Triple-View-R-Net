{
 "cells": [
  {
   "cell_type": "code",
   "execution_count": 13,
   "metadata": {},
   "outputs": [
    {
     "ename": "ImportError",
     "evalue": "cannot import name 'FeatureExtractor' from 'original_unet_attention' (e:\\ISEF\\Triple-View-R-Net\\RotatoryAttention\\original_unet_attention.py)",
     "output_type": "error",
     "traceback": [
      "\u001b[1;31m---------------------------------------------------------------------------\u001b[0m",
      "\u001b[1;31mImportError\u001b[0m                               Traceback (most recent call last)",
      "Cell \u001b[1;32mIn[13], line 8\u001b[0m\n\u001b[0;32m      6\u001b[0m \u001b[38;5;28;01mimport\u001b[39;00m \u001b[38;5;21;01mmatplotlib\u001b[39;00m\u001b[38;5;21;01m.\u001b[39;00m\u001b[38;5;21;01mpyplot\u001b[39;00m \u001b[38;5;28;01mas\u001b[39;00m \u001b[38;5;21;01mplt\u001b[39;00m\n\u001b[0;32m      7\u001b[0m \u001b[38;5;28;01mfrom\u001b[39;00m \u001b[38;5;21;01moriginal_attention_dataset\u001b[39;00m \u001b[38;5;28;01mimport\u001b[39;00m get_loaders\n\u001b[1;32m----> 8\u001b[0m \u001b[38;5;28;01mfrom\u001b[39;00m \u001b[38;5;21;01moriginal_unet_attention\u001b[39;00m \u001b[38;5;28;01mimport\u001b[39;00m Attention_Unet, FeatureExtractor, SegGradModel\n",
      "\u001b[1;31mImportError\u001b[0m: cannot import name 'FeatureExtractor' from 'original_unet_attention' (e:\\ISEF\\Triple-View-R-Net\\RotatoryAttention\\original_unet_attention.py)"
     ]
    }
   ],
   "source": [
    "import torch\n",
    "import torch.nn as nn\n",
    "import torch.nn.functional as F\n",
    "import numpy as np\n",
    "import cv2\n",
    "import matplotlib.pyplot as plt\n",
    "from original_attention_dataset import get_loaders\n",
    "from original_unet_attention import Attention_Unet, FeatureExtractor, SegGradModel"
   ]
  },
  {
   "cell_type": "code",
   "execution_count": 7,
   "metadata": {},
   "outputs": [],
   "source": [
    "model = Attention_Unet() \n",
    "\n",
    "wanted_modules = [\"bottle_neck\"]"
   ]
  },
  {
   "cell_type": "code",
   "execution_count": 9,
   "metadata": {},
   "outputs": [
    {
     "ename": "NameError",
     "evalue": "name 'FeatureExtractor' is not defined",
     "output_type": "error",
     "traceback": [
      "\u001b[1;31m---------------------------------------------------------------------------\u001b[0m",
      "\u001b[1;31mNameError\u001b[0m                                 Traceback (most recent call last)",
      "Cell \u001b[1;32mIn[9], line 1\u001b[0m\n\u001b[1;32m----> 1\u001b[0m f \u001b[38;5;241m=\u001b[39m \u001b[43mFeatureExtractor\u001b[49m(model\u001b[38;5;241m=\u001b[39mmodel, gradient_position\u001b[38;5;241m=\u001b[39mwanted_modules)\n\u001b[0;32m      4\u001b[0m f() \n",
      "\u001b[1;31mNameError\u001b[0m: name 'FeatureExtractor' is not defined"
     ]
    }
   ],
   "source": [
    "f = FeatureExtractor(model=model, gradient_position=wanted_modules)\n",
    "\n",
    "\n",
    "f() "
   ]
  }
 ],
 "metadata": {
  "kernelspec": {
   "display_name": "pyt",
   "language": "python",
   "name": "python3"
  },
  "language_info": {
   "codemirror_mode": {
    "name": "ipython",
    "version": 3
   },
   "file_extension": ".py",
   "mimetype": "text/x-python",
   "name": "python",
   "nbconvert_exporter": "python",
   "pygments_lexer": "ipython3",
   "version": "3.9.0"
  }
 },
 "nbformat": 4,
 "nbformat_minor": 2
}
