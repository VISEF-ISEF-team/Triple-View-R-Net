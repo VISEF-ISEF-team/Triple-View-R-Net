{
 "cells": [
  {
   "cell_type": "code",
   "execution_count": 1,
   "metadata": {},
   "outputs": [],
   "source": [
    "import os\n",
    "import SimpleITK as sitk\n",
    "import nibabel as nib\n",
    "import shutil\n",
    "import numpy as np\n",
    "import matplotlib.pyplot as plt\n",
    "from patchify import patchify\n",
    "import cv2\n",
    "from skimage.transform import resize\n",
    "from supporters import *"
   ]
  },
  {
   "cell_type": "markdown",
   "metadata": {},
   "source": [
    "### Load data to view shape"
   ]
  },
  {
   "cell_type": "code",
   "execution_count": 3,
   "metadata": {},
   "outputs": [
    {
     "name": "stdout",
     "output_type": "stream",
     "text": [
      "(512, 512, 512)\n",
      "(512, 512, 512)\n"
     ]
    }
   ],
   "source": [
    "id = 3\n",
    "path = f\"../data/ImageCHD/res_images_512/image_{id:04d}.nii.gz\"\n",
    "image_raw = sitk.ReadImage(path)\n",
    "image = sitk.GetArrayFromImage(image_raw)\n",
    "print(image.shape)\n",
    "\n",
    "label_path = f\"../data/ImageCHD/res_labels_512/label_{id:04d}.nii.gz\"\n",
    "label_raw = sitk.ReadImage(label_path)\n",
    "label = sitk.GetArrayFromImage(label_raw)\n",
    "print(label.shape)"
   ]
  },
  {
   "cell_type": "code",
   "execution_count": 4,
   "metadata": {},
   "outputs": [
    {
     "name": "stdout",
     "output_type": "stream",
     "text": [
      "[0 1 2 3 4 5 6 7]\n"
     ]
    }
   ],
   "source": [
    "print(np.unique(label))"
   ]
  },
  {
   "cell_type": "markdown",
   "metadata": {},
   "source": [
    "### Check shape of images and mask"
   ]
  },
  {
   "cell_type": "code",
   "execution_count": null,
   "metadata": {},
   "outputs": [],
   "source": [
    "for index in range(89, 382, 1):\n",
    "    path = f\"../data/ImageCAS/images/image_{index:04d}.nii.gz\"\n",
    "    image_raw = sitk.ReadImage(path)\n",
    "    image = sitk.GetArrayFromImage(image_raw)\n",
    "    \n",
    "    label_path = f\"../data/ImageCAS/labels/label_{index:04d}.nii.gz\"\n",
    "    label_raw = sitk.ReadImage(label_path)\n",
    "    label = sitk.GetArrayFromImage(label_raw)\n",
    "    \n",
    "    print(image.shape, label.shape)\n",
    "    if (image.shape != label.shape): break\n",
    "    else: print(f\"Successful: {index}\")"
   ]
  },
  {
   "cell_type": "code",
   "execution_count": null,
   "metadata": {},
   "outputs": [],
   "source": [
    "path = f\"../data/imageTBAD/images/image_0098.nii.gz\"\n",
    "image_raw = sitk.ReadImage(path)\n",
    "image = sitk.GetArrayFromImage(image_raw)\n",
    "image.shape"
   ]
  },
  {
   "cell_type": "markdown",
   "metadata": {},
   "source": [
    "### Rename function"
   ]
  },
  {
   "cell_type": "code",
   "execution_count": null,
   "metadata": {},
   "outputs": [],
   "source": [
    "directory = \"../data/imageTBAD/labels/\"\n",
    "start_index = 2\n",
    "end_index = 192\n",
    "\n",
    "for index in range(start_index, end_index+1, 1):\n",
    "    filename = f\"{index}_label.nii.gz\"\n",
    "    if (os.path.exists(os.path.join(directory, filename))):\n",
    "        new_filename = f\"label_{index:04d}.nii.gz\"\n",
    "        os.rename(os.path.join(directory, filename), os.path.join(directory, new_filename))\n",
    "        print(f\"Renamed {filename} to {new_filename}\")"
   ]
  },
  {
   "cell_type": "code",
   "execution_count": null,
   "metadata": {},
   "outputs": [],
   "source": [
    "# Increment\n",
    "directory = \"../data/imageTBAD/images/\"\n",
    "start_index = 100\n",
    "end_index = 393\n",
    "\n",
    "index = end_index\n",
    "while index != start_index:\n",
    "    filename = f\"ct_{index:04d}_label.nii.gz\"\n",
    "    if os.path.exists(os.path.join(directory, filename)):\n",
    "        new_index = index + 1\n",
    "        new_filename = f\"ct_{new_index:04d}_label.nii.gz\"\n",
    "        os.rename(os.path.join(directory, filename), os.path.join(directory, new_filename))\n",
    "        print(f\"Renamed {filename} to {new_filename}\")\n",
    "    index -= 1"
   ]
  },
  {
   "cell_type": "code",
   "execution_count": null,
   "metadata": {},
   "outputs": [],
   "source": [
    "# Decrement\n",
    "directory = \"../data/ImageCAS/images/\"\n",
    "start_index = 91\n",
    "end_index = 384\n",
    "\n",
    "for index in range(start_index, end_index + 1):\n",
    "    filename = f\"image_{index:04d}.nii.gz\"\n",
    "    if os.path.exists(os.path.join(directory, filename)):\n",
    "        new_index = index - 1\n",
    "        new_filename = f\"image_{new_index:04d}.nii.gz\"\n",
    "        os.rename(os.path.join(directory, filename), os.path.join(directory, new_filename))\n",
    "        print(f\"Renamed {filename} to {new_filename}\")"
   ]
  },
  {
   "cell_type": "markdown",
   "metadata": {},
   "source": [
    "### Mapping names"
   ]
  },
  {
   "cell_type": "code",
   "execution_count": null,
   "metadata": {},
   "outputs": [],
   "source": [
    "directory = '../data/ImageCAS/'\n",
    "image_filenames = os.listdir(directory + 'images')\n",
    "label_filenames = os.listdir(directory + 'labels')\n",
    "\n",
    "len(image_filenames), len(label_filenames)"
   ]
  },
  {
   "cell_type": "code",
   "execution_count": null,
   "metadata": {},
   "outputs": [],
   "source": [
    "for index in range(len(label_filenames)):\n",
    "    label_filename = label_filenames[index]\n",
    "    directory_label_filename = directory + f'labels/{label_filename}'\n",
    "    \n",
    "    image_filename = image_filenames[index]\n",
    "    new_filename = f'label_{image_filename[5:]}'\n",
    "    new_directory_filename = directory + f'labels/{new_filename}'\n",
    "    \n",
    "    os.rename(directory_label_filename, new_directory_filename)\n",
    "    print(f\"{index} - Rename: {directory_label_filename} to {new_directory_filename}\")"
   ]
  },
  {
   "cell_type": "markdown",
   "metadata": {},
   "source": [
    "### Seperate labels"
   ]
  },
  {
   "cell_type": "code",
   "execution_count": null,
   "metadata": {},
   "outputs": [],
   "source": [
    "for index in range(1, 107, 1):\n",
    "    label_path = f\"..\\data\\ImageCHD\\mask\\ct_{index:04d}_label.nii.gz\"\n",
    "    label_raw = sitk.ReadImage(label_path)\n",
    "    label = sitk.GetArrayFromImage(label_raw)\n",
    "    \n",
    "    unique_vals = np.unique(label)\n",
    "    if len(unique_vals) != 8: \n",
    "        print(f\"{index} - error label: {unique_vals}\") \n",
    "    else: print(f\"Successful: {index}\")"
   ]
  },
  {
   "cell_type": "code",
   "execution_count": null,
   "metadata": {},
   "outputs": [],
   "source": [
    "def save_func(out_path, volume):\n",
    "    array = np.array(volume, dtype=np.float32)\n",
    "    array = np.transpose(array, (2, 1, 0))\n",
    "    affine = np.eye(4)\n",
    "    nifti_file = nib.Nifti1Image(array, affine)\n",
    "    nib.save(nifti_file, out_path)\n",
    "\n",
    "def save_sep_label(id, mask):\n",
    "    for val in unique_vals:\n",
    "        label_array = np.copy(mask)\n",
    "        label_array[np.where(label_array != val)] = 0 \n",
    "        save_func(f\"../data/ImageCHD/splitted_mask/ct_00{id}_label/ct_00{id}_label_{val+1}.nii.gz\", label_array)\n",
    "        \n",
    "save_sep_label(\n",
    "    id = '02',\n",
    "    mask=label\n",
    ")"
   ]
  },
  {
   "cell_type": "markdown",
   "metadata": {},
   "source": [
    "### Visualize data"
   ]
  },
  {
   "cell_type": "code",
   "execution_count": null,
   "metadata": {},
   "outputs": [],
   "source": [
    "fig, axes = plt.subplots(4, 4, figsize=(10,10))\n",
    "\n",
    "for index, ax in enumerate(axes.flat):\n",
    "    ax.imshow(image[index], cmap='gray')\n",
    "    ax.axis('off')\n",
    "    ax.set_title(f'Slice {index+1}')\n",
    "\n",
    "plt.suptitle(\"Display data\")\n",
    "plt.tight_layout()\n",
    "plt.show()"
   ]
  },
  {
   "cell_type": "markdown",
   "metadata": {},
   "source": [
    "### Processing Data"
   ]
  },
  {
   "cell_type": "markdown",
   "metadata": {},
   "source": [
    "# processing tbad\n",
    "directory = '../data/imageTBAD/'\n",
    "image_dir = directory + 'images/'\n",
    "label_dir = directory + 'labels/'\n",
    "\n",
    "os.makedirs(image_dir, exist_ok=True)\n",
    "os.makedirs(label_dir, exist_ok=True)\n",
    "\n",
    "for filename in os.listdir(directory):\n",
    "    if filename.endswith('_image.nii.gz'): \n",
    "        shutil.copy(\n",
    "            os.path.join(directory, filename),\n",
    "            os.path.join(image_dir, filename)\n",
    "        )\n",
    "    elif filename.endswith('_label.nii.gz'):\n",
    "        shutil.copy(\n",
    "            os.path.join(directory, filename),\n",
    "            os.path.join(label_dir, filename)\n",
    "        )"
   ]
  },
  {
   "cell_type": "markdown",
   "metadata": {},
   "source": [
    "### Saving pngs from volume"
   ]
  },
  {
   "cell_type": "code",
   "execution_count": 7,
   "metadata": {},
   "outputs": [
    {
     "name": "stdout",
     "output_type": "stream",
     "text": [
      "Successful: ../data/ImageCHD/res_labels_512/label_0001.nii.gz\n"
     ]
    }
   ],
   "source": [
    "def extract_volume_to_images(directory, volume, filename):\n",
    "    for index in range(volume.shape[0]):\n",
    "        slice = volume[index]\n",
    "        plt.imsave(directory + filename + f'_{index+1:04d}.png', slice, cmap=\"gray\")\n",
    "                   \n",
    "\n",
    "main_dir = '../data/ImageCHD/res_labels_512/'\n",
    "for index, filename in enumerate(os.listdir(main_dir)):\n",
    "    \n",
    "    # Get the volume image\n",
    "    image_path = main_dir + filename\n",
    "    image_raw = sitk.ReadImage(image_path)\n",
    "    image = sitk.GetArrayFromImage(image_raw)\n",
    "    \n",
    "    extract_volume_to_images(\n",
    "        directory='../data/ImageCHD/res_labels_png_512/',\n",
    "        volume=image,\n",
    "        filename=filename[:-7]\n",
    "    )\n",
    "    print(f\"Successful: {main_dir + filename}\")\n",
    "    break"
   ]
  },
  {
   "cell_type": "markdown",
   "metadata": {},
   "source": [
    "### Resize and Save"
   ]
  },
  {
   "cell_type": "code",
   "execution_count": 2,
   "metadata": {},
   "outputs": [],
   "source": [
    "def resize_vol(vol, x_, y_, z_):\n",
    "    return resize(vol, (x_, y_, z_), mode='constant', preserve_range=True, anti_aliasing=False)\n",
    "\n",
    "def read_vol(path):\n",
    "    img_raw = sitk.ReadImage(path, sitk.sitkFloat32)\n",
    "    return sitk.GetArrayFromImage(img_raw)"
   ]
  },
  {
   "cell_type": "code",
   "execution_count": 16,
   "metadata": {},
   "outputs": [
    {
     "data": {
      "text/plain": [
       "(256, 256, 256)"
      ]
     },
     "execution_count": 16,
     "metadata": {},
     "output_type": "execute_result"
    }
   ],
   "source": [
    "resize_image = resize_vol(image, 256, 256, 256)\n",
    "resize_image.shape"
   ]
  },
  {
   "cell_type": "code",
   "execution_count": 7,
   "metadata": {},
   "outputs": [
    {
     "name": "stdout",
     "output_type": "stream",
     "text": [
      "(256, 256, 256)\n",
      "[0.000e+00 1.465e-03 1.953e-03 ... 6.992e+00 6.996e+00 7.000e+00]\n"
     ]
    }
   ],
   "source": [
    "label = read_vol('../data/ImageCHD/labels/label_0001.nii.gz')\n",
    "resize_label = resize_vol(label, 256, 256, 256).astype(np.int8)\n",
    "print(resize_label.shape)\n",
    "print(np.unique(resize_label))"
   ]
  },
  {
   "cell_type": "code",
   "execution_count": 3,
   "metadata": {},
   "outputs": [],
   "source": [
    "def save_vol(vol, path):\n",
    "    vol = np.transpose(vol, (2, 1, 0))\n",
    "    affine = np.eye(4)\n",
    "    nifti_file = nib.Nifti1Image(vol, affine)\n",
    "    nib.save(nifti_file, path)"
   ]
  },
  {
   "cell_type": "code",
   "execution_count": 19,
   "metadata": {},
   "outputs": [],
   "source": [
    "save_vol(\n",
    "    vol=resize_image,\n",
    "    path= f'../data/ImageCHD/res_images/image_{1:04d}.nii.gz'\n",
    ")"
   ]
  },
  {
   "cell_type": "code",
   "execution_count": 25,
   "metadata": {},
   "outputs": [],
   "source": [
    "save_vol(\n",
    "    vol=resize_label,\n",
    "    path= f'../data/ImageCHD/res_labels/label_{1:04d}.nii.gz'\n",
    ")"
   ]
  },
  {
   "cell_type": "code",
   "execution_count": 4,
   "metadata": {},
   "outputs": [],
   "source": [
    "# iteration\n",
    "main_dir = '../data/ImageCHD/images/'\n",
    "for index, filename in enumerate(os.listdir(main_dir)):\n",
    "    if (index == 10): break\n",
    "    \n",
    "    vol = read_vol(main_dir + filename)\n",
    "    save_vol(\n",
    "        vol=resize_vol(vol, 512, 512, 512),\n",
    "        path=f'../data/ImageCHD/res_images_512/' + filename\n",
    "    )"
   ]
  },
  {
   "cell_type": "markdown",
   "metadata": {},
   "source": [
    "### Find Error labels"
   ]
  },
  {
   "cell_type": "code",
   "execution_count": null,
   "metadata": {},
   "outputs": [],
   "source": [
    "main_dir = '../data/ImageCHD/'\n",
    "\n",
    "for filename in os.listdir(main_dir + 'labels/'):\n",
    "    vol = read_vol(main_dir + 'labels/' + filename)\n",
    "    n = np.unique(vol)\n",
    "    if (len(n) != 8): \n",
    "        print(f'Error: {filename, n}')\n",
    "        shutil.move(\n",
    "            main_dir + 'labels/' + filename,\n",
    "            main_dir + 'errors/' + filename\n",
    "        )\n",
    "        shutil.move(\n",
    "            main_dir + 'images/' + f'image_{filename[6:]}',\n",
    "            main_dir + 'errors/' + f'image_{filename[6:]}'\n",
    "        )\n",
    "    print(f'Successful: {filename}')"
   ]
  }
 ],
 "metadata": {
  "kernelspec": {
   "display_name": "Python 3 (ipykernel)",
   "language": "python",
   "name": "python3"
  },
  "language_info": {
   "codemirror_mode": {
    "name": "ipython",
    "version": 3
   },
   "file_extension": ".py",
   "mimetype": "text/x-python",
   "name": "python",
   "nbconvert_exporter": "python",
   "pygments_lexer": "ipython3",
   "version": "3.9.19"
  }
 },
 "nbformat": 4,
 "nbformat_minor": 4
}
