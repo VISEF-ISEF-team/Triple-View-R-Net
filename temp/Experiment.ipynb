{
 "cells": [
  {
   "cell_type": "code",
   "execution_count": 3,
   "metadata": {},
   "outputs": [],
   "source": [
    "import SimpleITK as sitk\n",
    "from supporters import *\n",
    "import matplotlib.pyplot as plt\n",
    "import tensorflow as tf\n",
    "import tensorflow.keras.layers as L"
   ]
  },
  {
   "cell_type": "code",
   "execution_count": 7,
   "metadata": {},
   "outputs": [
    {
     "name": "stdout",
     "output_type": "stream",
     "text": [
      "(14, 256, 256)\n"
     ]
    }
   ],
   "source": [
    "path = \"D:\\Documents\\GitHub\\Triple-View-R-Net\\data\\BTCV\\BTCV_training\\DET0004601_avg.nii.gz\"\n",
    "image_raw = sitk.ReadImage(path)\n",
    "image = sitk.GetArrayFromImage(image_raw)\n",
    "\n",
    "print(image.shape)"
   ]
  },
  {
   "cell_type": "code",
   "execution_count": 16,
   "metadata": {},
   "outputs": [
    {
     "name": "stdout",
     "output_type": "stream",
     "text": [
      "(14, 256, 256)\n"
     ]
    }
   ],
   "source": [
    "label_path = \"D:\\Documents\\GitHub\\Triple-View-R-Net\\data\\BTCV\\BTCV_labels\\DET0004601_avg_seg.nii.gz\"\n",
    "label_raw = sitk.ReadImage(label_path)\n",
    "label = sitk.GetArrayFromImage(label_raw)\n",
    "\n",
    "print(label.shape)"
   ]
  },
  {
   "cell_type": "code",
   "execution_count": null,
   "metadata": {},
   "outputs": [],
   "source": [
    "explore_3D_array_comparison(image, label)"
   ]
  },
  {
   "cell_type": "code",
   "execution_count": null,
   "metadata": {},
   "outputs": [],
   "source": [
    "fig, axes = plt.subplots(4, 4, figsize=(10,10))\n",
    "\n",
    "for index, ax in enumerate(axes.flat):\n",
    "    ax.imshow(image[index], cmap='gray')\n",
    "    ax.axis('off')\n",
    "    ax.set_title(f'Slice {index+1}')\n",
    "\n",
    "plt.suptitle(\"Display data\")\n",
    "plt.tight_layout()\n",
    "plt.show()"
   ]
  },
  {
   "cell_type": "code",
   "execution_count": null,
   "metadata": {},
   "outputs": [],
   "source": [
    "np.random.seed(42)\n",
    "tf.random.set_seed(42)\n",
    "\n",
    "input_shape = (2,3,4)\n",
    "x1 = tf.random.normal(input_shape)\n",
    "print(x1)\n",
    "x2 = tf.random.normal(input_shape)\n",
    "print(x2)\n",
    "\n",
    "y = L.Add()([x1,x2])\n",
    "print(y)\n",
    "\n",
    "print(x1[0][0][0] + x2[0][0][0], y[0][0][0])"
   ]
  }
 ],
 "metadata": {
  "kernelspec": {
   "display_name": "pyt",
   "language": "python",
   "name": "python3"
  },
  "language_info": {
   "codemirror_mode": {
    "name": "ipython",
    "version": 3
   },
   "file_extension": ".py",
   "mimetype": "text/x-python",
   "name": "python",
   "nbconvert_exporter": "python",
   "pygments_lexer": "ipython3",
   "version": "3.9.19"
  }
 },
 "nbformat": 4,
 "nbformat_minor": 2
}
