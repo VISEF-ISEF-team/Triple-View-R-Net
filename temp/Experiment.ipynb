{
 "cells": [
  {
   "cell_type": "code",
   "execution_count": null,
   "metadata": {},
   "outputs": [],
   "source": [
    "import os\n",
    "import SimpleITK as sitk\n",
    "import nibabel as nib\n",
    "import shutil\n",
    "import numpy as np\n",
    "import matplotlib.pyplot as plt"
   ]
  },
  {
   "cell_type": "markdown",
   "metadata": {},
   "source": [
    "### Load data to view shape"
   ]
  },
  {
   "cell_type": "code",
   "execution_count": null,
   "metadata": {},
   "outputs": [],
   "source": [
    "id = 384\n",
    "path = f\"..\\data\\ImageCAS\\images\\image_{id:04d}.nii.gz\"\n",
    "image_raw = sitk.ReadImage(path)\n",
    "image = sitk.GetArrayFromImage(image_raw)\n",
    "print(image.shape)\n",
    "\n",
    "label_path = f\"..\\data\\ImageCAS\\labels\\label_{id:04d}.nii.gz\"\n",
    "label_raw = sitk.ReadImage(label_path)\n",
    "label = sitk.GetArrayFromImage(label_raw)\n",
    "print(label.shape)"
   ]
  },
  {
   "cell_type": "code",
   "execution_count": null,
   "metadata": {},
   "outputs": [],
   "source": [
    "'''\n",
    "275  206\n",
    "206  206\n",
    "206  257\n",
    "257  206\n",
    "206  275\n",
    "275  275\n",
    "275  206\n",
    "'''"
   ]
  },
  {
   "cell_type": "code",
   "execution_count": null,
   "metadata": {},
   "outputs": [],
   "source": [
    "print(np.unique(label))"
   ]
  },
  {
   "cell_type": "markdown",
   "metadata": {},
   "source": [
    "### Check shape of images and mask"
   ]
  },
  {
   "cell_type": "code",
   "execution_count": null,
   "metadata": {},
   "outputs": [],
   "source": [
    "for index in range(89, 382, 1):\n",
    "    path = f\"../data/ImageCAS/images/image_{index:04d}.nii.gz\"\n",
    "    image_raw = sitk.ReadImage(path)\n",
    "    image = sitk.GetArrayFromImage(image_raw)\n",
    "    \n",
    "    label_path = f\"../data/ImageCAS/labels/label_{index:04d}.nii.gz\"\n",
    "    label_raw = sitk.ReadImage(label_path)\n",
    "    label = sitk.GetArrayFromImage(label_raw)\n",
    "    \n",
    "    print(image.shape, label.shape)\n",
    "    if (image.shape != label.shape): break\n",
    "    else: print(f\"Successful: {index}\")"
   ]
  },
  {
   "cell_type": "code",
   "execution_count": null,
   "metadata": {},
   "outputs": [],
   "source": [
    "path = f\"../data/imageTBAD/images/image_0098.nii.gz\"\n",
    "image_raw = sitk.ReadImage(path)\n",
    "image = sitk.GetArrayFromImage(image_raw)\n",
    "image.shape"
   ]
  },
  {
   "cell_type": "markdown",
   "metadata": {},
   "source": [
    "### Rename function"
   ]
  },
  {
   "cell_type": "code",
   "execution_count": null,
   "metadata": {},
   "outputs": [],
   "source": [
    "directory = \"../data/imageTBAD/labels/\"\n",
    "start_index = 2\n",
    "end_index = 192\n",
    "\n",
    "for index in range(start_index, end_index+1, 1):\n",
    "    filename = f\"{index}_label.nii.gz\"\n",
    "    if (os.path.exists(os.path.join(directory, filename))):\n",
    "        new_filename = f\"label_{index:04d}.nii.gz\"\n",
    "        os.rename(os.path.join(directory, filename), os.path.join(directory, new_filename))\n",
    "        print(f\"Renamed {filename} to {new_filename}\")"
   ]
  },
  {
   "cell_type": "code",
   "execution_count": null,
   "metadata": {},
   "outputs": [],
   "source": [
    "# Increment\n",
    "directory = \"../data/imageTBAD/images/\"\n",
    "start_index = 100\n",
    "end_index = 393\n",
    "\n",
    "index = end_index\n",
    "while index != start_index:\n",
    "    filename = f\"ct_{index:04d}_label.nii.gz\"\n",
    "    if os.path.exists(os.path.join(directory, filename)):\n",
    "        new_index = index + 1\n",
    "        new_filename = f\"ct_{new_index:04d}_label.nii.gz\"\n",
    "        os.rename(os.path.join(directory, filename), os.path.join(directory, new_filename))\n",
    "        print(f\"Renamed {filename} to {new_filename}\")\n",
    "    index -= 1"
   ]
  },
  {
   "cell_type": "code",
   "execution_count": null,
   "metadata": {},
   "outputs": [],
   "source": [
    "# Decrement\n",
    "directory = \"../data/ImageCAS/images/\"\n",
    "start_index = 91\n",
    "end_index = 384\n",
    "\n",
    "for index in range(start_index, end_index + 1):\n",
    "    filename = f\"image_{index:04d}.nii.gz\"\n",
    "    if os.path.exists(os.path.join(directory, filename)):\n",
    "        new_index = index - 1\n",
    "        new_filename = f\"image_{new_index:04d}.nii.gz\"\n",
    "        os.rename(os.path.join(directory, filename), os.path.join(directory, new_filename))\n",
    "        print(f\"Renamed {filename} to {new_filename}\")"
   ]
  },
  {
   "cell_type": "markdown",
   "metadata": {},
   "source": [
    "### Mapping names"
   ]
  },
  {
   "cell_type": "code",
   "execution_count": null,
   "metadata": {},
   "outputs": [],
   "source": [
    "directory = '../data/ImageCAS/'\n",
    "image_filenames = os.listdir(directory + 'images')\n",
    "label_filenames = os.listdir(directory + 'labels')\n",
    "\n",
    "len(image_filenames), len(label_filenames)"
   ]
  },
  {
   "cell_type": "code",
   "execution_count": null,
   "metadata": {},
   "outputs": [],
   "source": [
    "for index in range(len(label_filenames)):\n",
    "    label_filename = label_filenames[index]\n",
    "    directory_label_filename = directory + f'labels/{label_filename}'\n",
    "    \n",
    "    image_filename = image_filenames[index]\n",
    "    new_filename = f'label_{image_filename[5:]}'\n",
    "    new_directory_filename = directory + f'labels/{new_filename}'\n",
    "    \n",
    "    os.rename(directory_label_filename, new_directory_filename)\n",
    "    print(f\"{index} - Rename: {directory_label_filename} to {new_directory_filename}\")"
   ]
  },
  {
   "cell_type": "markdown",
   "metadata": {},
   "source": [
    "### Seperate labels"
   ]
  },
  {
   "cell_type": "code",
   "execution_count": null,
   "metadata": {},
   "outputs": [],
   "source": [
    "for index in range(1, 107, 1):\n",
    "    label_path = f\"..\\data\\ImageCHD\\mask\\ct_{index:04d}_label.nii.gz\"\n",
    "    label_raw = sitk.ReadImage(label_path)\n",
    "    label = sitk.GetArrayFromImage(label_raw)\n",
    "    \n",
    "    unique_vals = np.unique(label)\n",
    "    if len(unique_vals) != 8: \n",
    "        print(f\"{index} - error label: {unique_vals}\") \n",
    "    else: print(f\"Successful: {index}\")"
   ]
  },
  {
   "cell_type": "code",
   "execution_count": null,
   "metadata": {},
   "outputs": [],
   "source": [
    "def save_func(out_path, volume):\n",
    "    array = np.array(volume, dtype=np.float32)\n",
    "    array = np.transpose(array, (2, 1, 0))\n",
    "    affine = np.eye(4)\n",
    "    nifti_file = nib.Nifti1Image(array, affine)\n",
    "    nib.save(nifti_file, out_path)\n",
    "\n",
    "def save_sep_label(id, mask):\n",
    "    for val in unique_vals:\n",
    "        label_array = np.copy(mask)\n",
    "        label_array[np.where(label_array != val)] = 0 \n",
    "        save_func(f\"../data/ImageCHD/splitted_mask/ct_00{id}_label/ct_00{id}_label_{val+1}.nii.gz\", label_array)\n",
    "        \n",
    "save_sep_label(\n",
    "    id = '02',\n",
    "    mask=label\n",
    ")"
   ]
  },
  {
   "cell_type": "markdown",
   "metadata": {},
   "source": [
    "### Visualize data"
   ]
  },
  {
   "cell_type": "code",
   "execution_count": null,
   "metadata": {},
   "outputs": [],
   "source": [
    "fig, axes = plt.subplots(4, 4, figsize=(10,10))\n",
    "\n",
    "for index, ax in enumerate(axes.flat):\n",
    "    ax.imshow(image[index], cmap='gray')\n",
    "    ax.axis('off')\n",
    "    ax.set_title(f'Slice {index+1}')\n",
    "\n",
    "plt.suptitle(\"Display data\")\n",
    "plt.tight_layout()\n",
    "plt.show()"
   ]
  },
  {
   "cell_type": "markdown",
   "metadata": {},
   "source": [
    "### Processing Data"
   ]
  },
  {
   "cell_type": "code",
   "execution_count": null,
   "metadata": {},
   "outputs": [],
   "source": [
    "# processing tbad\n",
    "directory = '../data/imageTBAD/'\n",
    "image_dir = directory + 'images/'\n",
    "label_dir = directory + 'labels/'\n",
    "\n",
    "os.makedirs(image_dir, exist_ok=True)\n",
    "os.makedirs(label_dir, exist_ok=True)\n",
    "\n",
    "for filename in os.listdir(directory):\n",
    "    if filename.endswith('_image.nii.gz'): \n",
    "        shutil.copy(\n",
    "            os.path.join(directory, filename),\n",
    "            os.path.join(image_dir, filename)\n",
    "        )\n",
    "    elif filename.endswith('_label.nii.gz'):\n",
    "        shutil.copy(\n",
    "            os.path.join(directory, filename),\n",
    "            os.path.join(label_dir, filename)\n",
    "        )"
   ]
  }
 ],
 "metadata": {
  "kernelspec": {
   "display_name": "pyt",
   "language": "python",
   "name": "python3"
  },
  "language_info": {
   "codemirror_mode": {
    "name": "ipython",
    "version": 3
   },
   "file_extension": ".py",
   "mimetype": "text/x-python",
   "name": "python",
   "nbconvert_exporter": "python",
   "pygments_lexer": "ipython3",
   "version": "3.9.19"
  }
 },
 "nbformat": 4,
 "nbformat_minor": 2
}
