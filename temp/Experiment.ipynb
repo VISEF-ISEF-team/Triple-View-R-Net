{
 "cells": [
  {
   "cell_type": "code",
   "execution_count": 142,
   "metadata": {},
   "outputs": [],
   "source": [
    "import os\n",
    "import SimpleITK as sitk\n",
    "from supporters import *\n",
    "import nibabel as nib"
   ]
  },
  {
   "cell_type": "markdown",
   "metadata": {},
   "source": [
    "### Load data to view shape"
   ]
  },
  {
   "cell_type": "code",
   "execution_count": 180,
   "metadata": {},
   "outputs": [
    {
     "name": "stdout",
     "output_type": "stream",
     "text": [
      "(340, 512, 512)\n",
      "(340, 512, 512)\n"
     ]
    }
   ],
   "source": [
    "id = 106\n",
    "path = f\"..\\data\\ImageCHD\\images\\ct_{id:04d}_image.nii.gz\"\n",
    "image_raw = sitk.ReadImage(path)\n",
    "image = sitk.GetArrayFromImage(image_raw)\n",
    "print(image.shape)\n",
    "\n",
    "label_path = f\"..\\data\\ImageCHD\\mask\\ct_{id:04d}_label.nii.gz\"\n",
    "label_raw = sitk.ReadImage(label_path)\n",
    "label = sitk.GetArrayFromImage(label_raw)\n",
    "print(label.shape)"
   ]
  },
  {
   "cell_type": "code",
   "execution_count": null,
   "metadata": {},
   "outputs": [],
   "source": [
    "print(np.unique(label))"
   ]
  },
  {
   "cell_type": "markdown",
   "metadata": {},
   "source": [
    "### Check shape of images and mask"
   ]
  },
  {
   "cell_type": "code",
   "execution_count": null,
   "metadata": {},
   "outputs": [],
   "source": [
    "for index in range(1, 107, 1):\n",
    "    path = f\"..\\data\\ImageCHD\\images\\ct_{index:04d}_image.nii.gz\"\n",
    "    image_raw = sitk.ReadImage(path)\n",
    "    image = sitk.GetArrayFromImage(image_raw)\n",
    "    \n",
    "    label_path = f\"..\\data\\ImageCHD\\mask\\ct_{index:04d}_label.nii.gz\"\n",
    "    label_raw = sitk.ReadImage(label_path)\n",
    "    label = sitk.GetArrayFromImage(label_raw)\n",
    "    print(image.shape, label.shape)\n",
    "    \n",
    "    if (image.shape != label.shape): break\n",
    "    else: print(f\"Successful: {index}\")"
   ]
  },
  {
   "cell_type": "markdown",
   "metadata": {},
   "source": [
    "### Rename function"
   ]
  },
  {
   "cell_type": "code",
   "execution_count": null,
   "metadata": {},
   "outputs": [],
   "source": [
    "# Increment\n",
    "directory = \"../data/ImageCHD/mask/\"\n",
    "start_index = 5\n",
    "end_index = 106\n",
    "\n",
    "index = end_index\n",
    "while index != start_index:\n",
    "    filename = f\"ct_{index:04d}_label.nii.gz\"\n",
    "    if os.path.exists(os.path.join(directory, filename)):\n",
    "        new_index = index + 1\n",
    "        new_filename = f\"ct_{new_index:04d}_label.nii.gz\"\n",
    "        os.rename(os.path.join(directory, filename), os.path.join(directory, new_filename))\n",
    "        print(f\"Renamed {filename} to {new_filename}\")\n",
    "    index -= 1"
   ]
  },
  {
   "cell_type": "code",
   "execution_count": null,
   "metadata": {},
   "outputs": [],
   "source": [
    "# Decrement\n",
    "directory = \"../data/ImageCHD/mask/\"\n",
    "start_index = 5\n",
    "end_index = 106\n",
    "\n",
    "for index in range(start_index, end_index + 1):\n",
    "    filename = f\"ct_{index:04d}_label.nii.gz\"\n",
    "    if os.path.exists(os.path.join(directory, filename)):\n",
    "        new_index = index + 1\n",
    "        new_filename = f\"ct_{new_index:04d}_label.nii.gz\"\n",
    "        os.rename(os.path.join(directory, filename), os.path.join(directory, new_filename))\n",
    "        print(f\"Renamed {filename} to {new_filename}\")"
   ]
  },
  {
   "cell_type": "markdown",
   "metadata": {},
   "source": [
    "### Seperate labels"
   ]
  },
  {
   "cell_type": "code",
   "execution_count": null,
   "metadata": {},
   "outputs": [],
   "source": [
    "for index in range(1, 107, 1):\n",
    "    label_path = f\"..\\data\\ImageCHD\\mask\\ct_{index:04d}_label.nii.gz\"\n",
    "    label_raw = sitk.ReadImage(label_path)\n",
    "    label = sitk.GetArrayFromImage(label_raw)\n",
    "    \n",
    "    unique_vals = np.unique(label)\n",
    "    if len(unique_vals) != 8: \n",
    "        print(f\"{index} - error label: {unique_vals}\") \n",
    "    else: print(f\"Successful: {index}\")"
   ]
  },
  {
   "cell_type": "code",
   "execution_count": null,
   "metadata": {},
   "outputs": [],
   "source": [
    "def save_func(out_path, volume):\n",
    "    array = np.array(volume, dtype=np.float32)\n",
    "    array = np.transpose(array, (2, 1, 0))\n",
    "    affine = np.eye(4)\n",
    "    nifti_file = nib.Nifti1Image(array, affine)\n",
    "    nib.save(nifti_file, out_path)\n",
    "\n",
    "def save_sep_label(id, mask):\n",
    "    for val in unique_vals:\n",
    "        label_array = np.copy(mask)\n",
    "        label_array[np.where(label_array != val)] = 0 \n",
    "        save_func(f\"../data/ImageCHD/splitted_mask/ct_00{id}_label/ct_00{id}_label_{val+1}.nii.gz\", label_array)\n",
    "        \n",
    "save_sep_label(\n",
    "    id = '02',\n",
    "    mask=label\n",
    ")"
   ]
  },
  {
   "cell_type": "markdown",
   "metadata": {},
   "source": [
    "### Visualize data"
   ]
  },
  {
   "cell_type": "code",
   "execution_count": null,
   "metadata": {},
   "outputs": [],
   "source": [
    "fig, axes = plt.subplots(4, 4, figsize=(10,10))\n",
    "\n",
    "for index, ax in enumerate(axes.flat):\n",
    "    ax.imshow(image[index], cmap='gray')\n",
    "    ax.axis('off')\n",
    "    ax.set_title(f'Slice {index+1}')\n",
    "\n",
    "plt.suptitle(\"Display data\")\n",
    "plt.tight_layout()\n",
    "plt.show()"
   ]
  }
 ],
 "metadata": {
  "kernelspec": {
   "display_name": "pyt",
   "language": "python",
   "name": "python3"
  },
  "language_info": {
   "codemirror_mode": {
    "name": "ipython",
    "version": 3
   },
   "file_extension": ".py",
   "mimetype": "text/x-python",
   "name": "python",
   "nbconvert_exporter": "python",
   "pygments_lexer": "ipython3",
   "version": "3.9.19"
  }
 },
 "nbformat": 4,
 "nbformat_minor": 2
}
