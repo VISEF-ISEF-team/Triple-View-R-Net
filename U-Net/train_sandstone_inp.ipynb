{
 "cells": [
  {
   "cell_type": "code",
   "execution_count": 15,
   "metadata": {},
   "outputs": [],
   "source": [
    "import tensorflow as tf\n",
    "import os\n",
    "from model2 import unet_model\n",
    "from keras.utils import normalize\n",
    "from glob import glob\n",
    "import numpy as np\n",
    "import cv2\n",
    "import matplotlib.pyplot as plt\n",
    "from patchify import patchify\n",
    "import tifffile as tiff\n",
    "from PIL import Image\n",
    "from sklearn.model_selection import train_test_split\n",
    "import random\n",
    "from sklearn.preprocessing import LabelEncoder\n",
    "from keras.utils import to_categorical\n",
    "from keras.metrics import MeanIoU\n",
    "from tensorflow.keras.models import load_model\n",
    "import csv"
   ]
  },
  {
   "cell_type": "markdown",
   "metadata": {},
   "source": [
    "### Input pipeline"
   ]
  },
  {
   "cell_type": "code",
   "execution_count": 16,
   "metadata": {},
   "outputs": [
    {
     "data": {
      "text/plain": [
       "(256, 256, 3)"
      ]
     },
     "execution_count": 16,
     "metadata": {},
     "output_type": "execute_result"
    }
   ],
   "source": [
    "# Read an sample to get correct configuration\n",
    "path = \"../data/Sandstone/images/image_0001.png\"\n",
    "img = cv2.imread(path, cv2.IMREAD_COLOR)\n",
    "h,w,c = img.shape\n",
    "h,w,c"
   ]
  },
  {
   "cell_type": "code",
   "execution_count": 17,
   "metadata": {},
   "outputs": [],
   "source": [
    "# Configuration\n",
    "colors = [[0, 0, 0], [0, 153, 255], [102, 255, 153], [0, 204, 153]]\n",
    "cf = {}\n",
    "cf['n'] = 4\n",
    "cf['h'] = 256\n",
    "cf['w'] = 256\n",
    "cf['c'] = 1\n",
    "cf['p'] =  16\n",
    "cf['n_patches'] = (cf['h']  * cf['w']) // (cf['p'] * cf['p'])\n",
    "cf['dropout'] =  0.1\n",
    "cf['flat_p_shape'] = (\n",
    "    cf['n_patches'],\n",
    "    cf['p'] * cf['p'] * cf['c'],  # one slice\n",
    "    1\n",
    ")\n",
    "model_path = os.path.join(\"../model/\", \"unet_sandstone_20_inp.keras\")\n",
    "csv_path = os.path.join(\"files\", \"log.csv\")"
   ]
  },
  {
   "cell_type": "code",
   "execution_count": 18,
   "metadata": {},
   "outputs": [],
   "source": [
    "def create_dir(path):\n",
    "    if not os.path.exists(path):\n",
    "        os.makedirs(path)    \n",
    "\n",
    "class InputPipeline():\n",
    "    def __init__(self, cf, path):\n",
    "        self.cf = cf\n",
    "        self.path = path\n",
    "        self.load_dataset()\n",
    "        \n",
    "    def split_dataset(self):\n",
    "        self.X_train, self.X_val, self.y_train, self.y_val = train_test_split(self.images, self.masks, test_size=0.2, random_state=42)\n",
    "        self.X_val, self.X_test, self.y_val, self.y_test = train_test_split(self.X_val, self.y_val, test_size=0.5, random_state=42)\n",
    "        print(\n",
    "            len(self.X_train), len(self.y_train), \n",
    "            len(self.X_val), len(self.y_val),\n",
    "            len(self.X_test), len(self.y_test)     \n",
    "        )\n",
    "        \n",
    "    def load_dataset(self):\n",
    "        self.images = sorted(glob(os.path.join(self.path, \"images\", \"*.png\")))\n",
    "        self.masks = sorted(glob(os.path.join(self.path, \"masks\", \"*.png\")))\n",
    "        self.split_dataset()\n",
    "        \n",
    "    def read_image(self, path):\n",
    "        path = path.decode()\n",
    "        image = cv2.imread(path, cv2.IMREAD_COLOR)\n",
    "        image = cv2.resize(image, (self.cf[\"h\"], self.cf[\"w\"]))\n",
    "        image = image / 255.0\n",
    "\n",
    "        patch_shape = (self.cf[\"p\"], self.cf[\"p\"], self.cf[\"c\"])   # (16, 16, 1)\n",
    "        patches = patchify(image, patch_shape, self.cf[\"p\"])       # (256, 16, 16, 1) ~ (256, 256, 1)\n",
    "        patches = np.reshape(patches, self.cf[\"flat_p_shape\"])     # (256, 16 x 16 x 1) ~ flatten the the patch\n",
    "        patches = patches.astype(np.float32)\n",
    "        return patches\n",
    "\n",
    "    def read_mask(self, path):\n",
    "        path = path.decode()\n",
    "        mask = cv2.imread(path, cv2.IMREAD_GRAYSCALE)\n",
    "        mask = cv2.resize(mask, (self.cf[\"h\"], self.cf[\"w\"]))\n",
    "        mask = mask.astype(np.int32)\n",
    "        return mask\n",
    "    \n",
    "    def tf_parse(self, x, y):\n",
    "        def _parse(x, y):\n",
    "            x = self.read_image(x)\n",
    "            y = self.read_mask(y)\n",
    "            y = tf.one_hot(y, cf[\"n\"])\n",
    "            return x, y\n",
    "\n",
    "        x, y = tf.numpy_function(_parse, [x, y], [tf.float32, tf.float32])\n",
    "        x.set_shape(cf[\"flat_p_shape\"])\n",
    "        y.set_shape([cf[\"h\"], cf[\"w\"], cf[\"n\"]])\n",
    "        return x, y\n",
    "            \n",
    "    def tf_dataset(self, batch=1):\n",
    "        self.train_ds = tf.data.Dataset.from_tensor_slices((self.X_train, self.y_train))\n",
    "        self.train_ds = self.train_ds.map(self.tf_parse).batch(batch).prefetch(10)\n",
    "        \n",
    "        self.val_ds = tf.data.Dataset.from_tensor_slices((self.X_val, self.y_val))\n",
    "        self.val_ds = self.val_ds.map(self.tf_parse).batch(batch).prefetch(10)\n",
    "        \n",
    "        self.test_ds = tf.data.Dataset.from_tensor_slices((self.X_test, self.y_test))\n",
    "        self.test_ds = self.test_ds.map(self.tf_parse).batch(batch).prefetch(10)\n",
    "        \n",
    "        return self.train_ds, self.val_ds, self.test_ds"
   ]
  },
  {
   "cell_type": "code",
   "execution_count": 19,
   "metadata": {},
   "outputs": [
    {
     "name": "stdout",
     "output_type": "stream",
     "text": [
      "204 204 26 26 26 26\n",
      "<PrefetchDataset element_spec=(TensorSpec(shape=(None, 256, 256, 1), dtype=tf.float32, name=None), TensorSpec(shape=(None, 256, 256, 4), dtype=tf.float32, name=None))>\n",
      "<PrefetchDataset element_spec=(TensorSpec(shape=(None, 256, 256, 1), dtype=tf.float32, name=None), TensorSpec(shape=(None, 256, 256, 4), dtype=tf.float32, name=None))>\n",
      "<PrefetchDataset element_spec=(TensorSpec(shape=(None, 256, 256, 1), dtype=tf.float32, name=None), TensorSpec(shape=(None, 256, 256, 4), dtype=tf.float32, name=None))>\n"
     ]
    }
   ],
   "source": [
    "dataset_path = \"../data/Sandstone/\"\n",
    "ippl = InputPipeline(cf, dataset_path)\n",
    "train_ds, val_ds, test_ds = ippl.tf_dataset()\n",
    "print(train_ds)\n",
    "print(val_ds)\n",
    "print(test_ds)"
   ]
  },
  {
   "cell_type": "code",
   "execution_count": 20,
   "metadata": {},
   "outputs": [
    {
     "name": "stdout",
     "output_type": "stream",
     "text": [
      "tf.Tensor(204, shape=(), dtype=int64)\n",
      "tf.Tensor(26, shape=(), dtype=int64)\n",
      "tf.Tensor(26, shape=(), dtype=int64)\n"
     ]
    }
   ],
   "source": [
    "print(tf.data.Dataset.cardinality(train_ds))\n",
    "print(tf.data.Dataset.cardinality(val_ds))\n",
    "print(tf.data.Dataset.cardinality(test_ds))"
   ]
  },
  {
   "cell_type": "code",
   "execution_count": 21,
   "metadata": {},
   "outputs": [
    {
     "name": "stdout",
     "output_type": "stream",
     "text": [
      "(1, 1, 256, 256, 1) (1, 1, 256, 256, 4)\n"
     ]
    }
   ],
   "source": [
    "for image, mask in train_ds.batch(1).take(1):\n",
    "    print(image.shape, mask.shape)\n",
    "    "
   ]
  },
  {
   "cell_type": "code",
   "execution_count": 22,
   "metadata": {},
   "outputs": [
    {
     "name": "stdout",
     "output_type": "stream",
     "text": [
      "Model: \"model_1\"\n",
      "__________________________________________________________________________________________________\n",
      " Layer (type)                   Output Shape         Param #     Connected to                     \n",
      "==================================================================================================\n",
      " input_2 (InputLayer)           [(None, 256, 256, 1  0           []                               \n",
      "                                )]                                                                \n",
      "                                                                                                  \n",
      " conv2d_19 (Conv2D)             (None, 256, 256, 16  160         ['input_2[0][0]']                \n",
      "                                )                                                                 \n",
      "                                                                                                  \n",
      " dropout_9 (Dropout)            (None, 256, 256, 16  0           ['conv2d_19[0][0]']              \n",
      "                                )                                                                 \n",
      "                                                                                                  \n",
      " conv2d_20 (Conv2D)             (None, 256, 256, 16  2320        ['dropout_9[0][0]']              \n",
      "                                )                                                                 \n",
      "                                                                                                  \n",
      " max_pooling2d_4 (MaxPooling2D)  (None, 128, 128, 16  0          ['conv2d_20[0][0]']              \n",
      "                                )                                                                 \n",
      "                                                                                                  \n",
      " conv2d_21 (Conv2D)             (None, 128, 128, 32  4640        ['max_pooling2d_4[0][0]']        \n",
      "                                )                                                                 \n",
      "                                                                                                  \n",
      " dropout_10 (Dropout)           (None, 128, 128, 32  0           ['conv2d_21[0][0]']              \n",
      "                                )                                                                 \n",
      "                                                                                                  \n",
      " conv2d_22 (Conv2D)             (None, 128, 128, 32  9248        ['dropout_10[0][0]']             \n",
      "                                )                                                                 \n",
      "                                                                                                  \n",
      " max_pooling2d_5 (MaxPooling2D)  (None, 64, 64, 32)  0           ['conv2d_22[0][0]']              \n",
      "                                                                                                  \n",
      " conv2d_23 (Conv2D)             (None, 64, 64, 64)   18496       ['max_pooling2d_5[0][0]']        \n",
      "                                                                                                  \n",
      " dropout_11 (Dropout)           (None, 64, 64, 64)   0           ['conv2d_23[0][0]']              \n",
      "                                                                                                  \n",
      " conv2d_24 (Conv2D)             (None, 64, 64, 64)   36928       ['dropout_11[0][0]']             \n",
      "                                                                                                  \n",
      " max_pooling2d_6 (MaxPooling2D)  (None, 32, 32, 64)  0           ['conv2d_24[0][0]']              \n",
      "                                                                                                  \n",
      " conv2d_25 (Conv2D)             (None, 32, 32, 128)  73856       ['max_pooling2d_6[0][0]']        \n",
      "                                                                                                  \n",
      " dropout_12 (Dropout)           (None, 32, 32, 128)  0           ['conv2d_25[0][0]']              \n",
      "                                                                                                  \n",
      " conv2d_26 (Conv2D)             (None, 32, 32, 128)  147584      ['dropout_12[0][0]']             \n",
      "                                                                                                  \n",
      " max_pooling2d_7 (MaxPooling2D)  (None, 16, 16, 128)  0          ['conv2d_26[0][0]']              \n",
      "                                                                                                  \n",
      " conv2d_27 (Conv2D)             (None, 16, 16, 256)  295168      ['max_pooling2d_7[0][0]']        \n",
      "                                                                                                  \n",
      " dropout_13 (Dropout)           (None, 16, 16, 256)  0           ['conv2d_27[0][0]']              \n",
      "                                                                                                  \n",
      " conv2d_28 (Conv2D)             (None, 16, 16, 256)  590080      ['dropout_13[0][0]']             \n",
      "                                                                                                  \n",
      " conv2d_transpose_4 (Conv2DTran  (None, 32, 32, 128)  131200     ['conv2d_28[0][0]']              \n",
      " spose)                                                                                           \n",
      "                                                                                                  \n",
      " concatenate_4 (Concatenate)    (None, 32, 32, 256)  0           ['conv2d_transpose_4[0][0]',     \n",
      "                                                                  'conv2d_26[0][0]']              \n",
      "                                                                                                  \n",
      " conv2d_29 (Conv2D)             (None, 32, 32, 128)  295040      ['concatenate_4[0][0]']          \n",
      "                                                                                                  \n",
      " dropout_14 (Dropout)           (None, 32, 32, 128)  0           ['conv2d_29[0][0]']              \n",
      "                                                                                                  \n",
      " conv2d_30 (Conv2D)             (None, 32, 32, 128)  147584      ['dropout_14[0][0]']             \n",
      "                                                                                                  \n",
      " conv2d_transpose_5 (Conv2DTran  (None, 64, 64, 64)  32832       ['conv2d_30[0][0]']              \n",
      " spose)                                                                                           \n",
      "                                                                                                  \n",
      " concatenate_5 (Concatenate)    (None, 64, 64, 128)  0           ['conv2d_transpose_5[0][0]',     \n",
      "                                                                  'conv2d_24[0][0]']              \n",
      "                                                                                                  \n",
      " conv2d_31 (Conv2D)             (None, 64, 64, 64)   73792       ['concatenate_5[0][0]']          \n",
      "                                                                                                  \n",
      " dropout_15 (Dropout)           (None, 64, 64, 64)   0           ['conv2d_31[0][0]']              \n",
      "                                                                                                  \n",
      " conv2d_32 (Conv2D)             (None, 64, 64, 64)   36928       ['dropout_15[0][0]']             \n",
      "                                                                                                  \n",
      " conv2d_transpose_6 (Conv2DTran  (None, 128, 128, 32  8224       ['conv2d_32[0][0]']              \n",
      " spose)                         )                                                                 \n",
      "                                                                                                  \n",
      " concatenate_6 (Concatenate)    (None, 128, 128, 64  0           ['conv2d_transpose_6[0][0]',     \n",
      "                                )                                 'conv2d_22[0][0]']              \n",
      "                                                                                                  \n",
      " conv2d_33 (Conv2D)             (None, 128, 128, 32  18464       ['concatenate_6[0][0]']          \n",
      "                                )                                                                 \n",
      "                                                                                                  \n",
      " dropout_16 (Dropout)           (None, 128, 128, 32  0           ['conv2d_33[0][0]']              \n",
      "                                )                                                                 \n",
      "                                                                                                  \n",
      " conv2d_34 (Conv2D)             (None, 128, 128, 32  9248        ['dropout_16[0][0]']             \n",
      "                                )                                                                 \n",
      "                                                                                                  \n",
      " conv2d_transpose_7 (Conv2DTran  (None, 256, 256, 16  2064       ['conv2d_34[0][0]']              \n",
      " spose)                         )                                                                 \n",
      "                                                                                                  \n",
      " concatenate_7 (Concatenate)    (None, 256, 256, 32  0           ['conv2d_transpose_7[0][0]',     \n",
      "                                )                                 'conv2d_20[0][0]']              \n",
      "                                                                                                  \n",
      " conv2d_35 (Conv2D)             (None, 256, 256, 16  4624        ['concatenate_7[0][0]']          \n",
      "                                )                                                                 \n",
      "                                                                                                  \n",
      " dropout_17 (Dropout)           (None, 256, 256, 16  0           ['conv2d_35[0][0]']              \n",
      "                                )                                                                 \n",
      "                                                                                                  \n",
      " conv2d_36 (Conv2D)             (None, 256, 256, 16  2320        ['dropout_17[0][0]']             \n",
      "                                )                                                                 \n",
      "                                                                                                  \n",
      " conv2d_37 (Conv2D)             (None, 256, 256, 4)  68          ['conv2d_36[0][0]']              \n",
      "                                                                                                  \n",
      "==================================================================================================\n",
      "Total params: 1,940,868\n",
      "Trainable params: 1,940,868\n",
      "Non-trainable params: 0\n",
      "__________________________________________________________________________________________________\n"
     ]
    }
   ],
   "source": [
    "model = unet_model(cf)\n",
    "model.compile(\n",
    "    loss=\"categorical_crossentropy\", \n",
    "    optimizer='adam',\n",
    "    metrics=['accuracy']\n",
    ")\n",
    "model.summary()"
   ]
  },
  {
   "cell_type": "code",
   "execution_count": 23,
   "metadata": {},
   "outputs": [
    {
     "name": "stdout",
     "output_type": "stream",
     "text": [
      "Epoch 1/20\n",
      "204/204 [==============================] - 13s 35ms/step - loss: 0.6800 - accuracy: 0.8064 - val_loss: 0.6122 - val_accuracy: 0.8249\n",
      "Epoch 2/20\n",
      "204/204 [==============================] - 6s 31ms/step - loss: 0.6065 - accuracy: 0.8238 - val_loss: 0.5926 - val_accuracy: 0.8249\n",
      "Epoch 3/20\n",
      "204/204 [==============================] - 7s 32ms/step - loss: 0.5851 - accuracy: 0.8240 - val_loss: 0.5564 - val_accuracy: 0.8290\n",
      "Epoch 4/20\n",
      "204/204 [==============================] - 6s 31ms/step - loss: 0.5520 - accuracy: 0.8261 - val_loss: 0.5162 - val_accuracy: 0.8348\n",
      "Epoch 5/20\n",
      "204/204 [==============================] - 7s 33ms/step - loss: 0.5006 - accuracy: 0.8371 - val_loss: 0.4557 - val_accuracy: 0.8512\n",
      "Epoch 6/20\n",
      "204/204 [==============================] - 6s 31ms/step - loss: 0.4587 - accuracy: 0.8470 - val_loss: 0.4233 - val_accuracy: 0.8591\n",
      "Epoch 7/20\n",
      "204/204 [==============================] - 6s 31ms/step - loss: 0.4309 - accuracy: 0.8538 - val_loss: 0.4039 - val_accuracy: 0.8627\n",
      "Epoch 8/20\n",
      "204/204 [==============================] - 6s 30ms/step - loss: 0.4090 - accuracy: 0.8597 - val_loss: 0.3848 - val_accuracy: 0.8689\n",
      "Epoch 9/20\n",
      "204/204 [==============================] - 6s 31ms/step - loss: 0.3859 - accuracy: 0.8667 - val_loss: 0.3606 - val_accuracy: 0.8767\n",
      "Epoch 10/20\n",
      "204/204 [==============================] - 6s 30ms/step - loss: 0.3694 - accuracy: 0.8717 - val_loss: 0.3491 - val_accuracy: 0.8803\n",
      "Epoch 11/20\n",
      "204/204 [==============================] - 6s 29ms/step - loss: 0.3555 - accuracy: 0.8759 - val_loss: 0.3391 - val_accuracy: 0.8837\n",
      "Epoch 12/20\n",
      "204/204 [==============================] - 6s 29ms/step - loss: 0.3456 - accuracy: 0.8784 - val_loss: 0.3300 - val_accuracy: 0.8866\n",
      "Epoch 13/20\n",
      "204/204 [==============================] - 6s 31ms/step - loss: 0.3340 - accuracy: 0.8823 - val_loss: 0.3252 - val_accuracy: 0.8887\n",
      "Epoch 14/20\n",
      "204/204 [==============================] - 6s 28ms/step - loss: 0.3243 - accuracy: 0.8851 - val_loss: 0.3131 - val_accuracy: 0.8912\n",
      "Epoch 15/20\n",
      "204/204 [==============================] - 6s 30ms/step - loss: 0.3149 - accuracy: 0.8877 - val_loss: 0.3023 - val_accuracy: 0.8944\n",
      "Epoch 16/20\n",
      "204/204 [==============================] - 6s 30ms/step - loss: 0.3102 - accuracy: 0.8894 - val_loss: 0.2982 - val_accuracy: 0.8952\n",
      "Epoch 17/20\n",
      "204/204 [==============================] - 6s 30ms/step - loss: 0.3059 - accuracy: 0.8905 - val_loss: 0.3014 - val_accuracy: 0.8946\n",
      "Epoch 18/20\n",
      "204/204 [==============================] - 6s 30ms/step - loss: 0.2975 - accuracy: 0.8934 - val_loss: 0.2883 - val_accuracy: 0.8975\n",
      "Epoch 19/20\n",
      "204/204 [==============================] - 6s 30ms/step - loss: 0.2951 - accuracy: 0.8938 - val_loss: 0.2880 - val_accuracy: 0.8979\n",
      "Epoch 20/20\n",
      "204/204 [==============================] - 6s 31ms/step - loss: 0.2888 - accuracy: 0.8956 - val_loss: 0.2896 - val_accuracy: 0.8965\n"
     ]
    }
   ],
   "source": [
    "history = model.fit(\n",
    "    train_ds,\n",
    "    verbose=1, \n",
    "    epochs=20, \n",
    "    validation_data=val_ds, \n",
    "    shuffle=False\n",
    ")"
   ]
  },
  {
   "cell_type": "markdown",
   "metadata": {},
   "source": [
    "### Save models and results"
   ]
  },
  {
   "cell_type": "code",
   "execution_count": 25,
   "metadata": {},
   "outputs": [
    {
     "name": "stdout",
     "output_type": "stream",
     "text": [
      "Training history has been saved to unet_sandstone_20_inp.csv\n"
     ]
    }
   ],
   "source": [
    "# Extracting the training history\n",
    "train_accuracy = history.history['accuracy']\n",
    "val_accuracy = history.history['val_accuracy']\n",
    "train_loss = history.history['loss']\n",
    "val_loss = history.history['val_loss']\n",
    "\n",
    "# Define the file name\n",
    "file_name = f'../results/unet_sandstone_20_inp.csv'\n",
    "\n",
    "# Writing the data into a CSV file\n",
    "with open(file_name, mode='w', newline='') as file:\n",
    "    writer = csv.writer(file)\n",
    "    writer.writerow(['Epoch', 'Train Accuracy', 'Val Accuracy', 'Train Loss', 'Val Loss'])\n",
    "    for epoch in range(len(train_accuracy)):\n",
    "        writer.writerow([epoch+1, train_accuracy[epoch], val_accuracy[epoch], train_loss[epoch], val_loss[epoch]])\n",
    "\n",
    "print(f\"Training history has been saved to {file_name}\")"
   ]
  },
  {
   "cell_type": "code",
   "execution_count": 26,
   "metadata": {},
   "outputs": [
    {
     "name": "stdout",
     "output_type": "stream",
     "text": [
      "26/26 [==============================] - 1s 21ms/step - loss: 0.2843 - accuracy: 0.8989\n",
      "Accuracy is =  89.8931086063385 %\n"
     ]
    }
   ],
   "source": [
    "model.save('../models/unet_sandstone_20_inp.hdf5')   # architectyre_dataset_epochs\n",
    "_, acc = model.evaluate(test_ds)\n",
    "print(\"Accuracy is = \", (acc * 100.0), \"%\")"
   ]
  },
  {
   "cell_type": "markdown",
   "metadata": {},
   "source": [
    "### Visualization"
   ]
  },
  {
   "cell_type": "markdown",
   "metadata": {},
   "source": [
    "### Run inference"
   ]
  }
 ],
 "metadata": {
  "kernelspec": {
   "display_name": "train",
   "language": "python",
   "name": "python3"
  },
  "language_info": {
   "codemirror_mode": {
    "name": "ipython",
    "version": 3
   },
   "file_extension": ".py",
   "mimetype": "text/x-python",
   "name": "python",
   "nbconvert_exporter": "python",
   "pygments_lexer": "ipython3",
   "version": "3.9.19"
  }
 },
 "nbformat": 4,
 "nbformat_minor": 2
}
